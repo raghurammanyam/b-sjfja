{
 "cells": [
  {
   "cell_type": "code",
   "execution_count": null,
   "metadata": {},
   "outputs": [],
   "source": []
  },
  {
   "cell_type": "code",
   "execution_count": null,
   "metadata": {},
   "outputs": [],
   "source": []
  },
  {
   "cell_type": "code",
   "execution_count": 1,
   "metadata": {},
   "outputs": [
    {
     "name": "stdout",
     "output_type": "stream",
     "text": [
      "Please enter amount in rupees600\n",
      "enter amount in rupees700\n",
      "[100]\n"
     ]
    }
   ],
   "source": [
    "bill=int(input(\"Please enter amount in rupees\"))\n",
    "givenamount=int(input(\"enter amount in rupees\"))\n",
    "change=givenamount-bill\n",
    "coins = [2000, 500, 100, 50, 10, 1]\n",
    "coinsReturned = []\n",
    "for i in coins:\n",
    "      while change >=i:\n",
    "        coinsReturned.append(i)\n",
    "        change = change - i\n",
    "    \n",
    "print(coinsReturned)"
   ]
  },
  {
   "cell_type": "code",
   "execution_count": 6,
   "metadata": {},
   "outputs": [
    {
     "name": "stdout",
     "output_type": "stream",
     "text": [
      "your bill in rupees500\n",
      "given amount in rupees3500\n",
      "{2000: 5, 1: 200, 50: 15, 100: 20, 500: 8, 10: 100, 2: 150}\n",
      "[2000, 500, 500]\n",
      "{2000: 6, 1: 200, 50: 15, 100: 20, 500: 11, 10: 100, 2: 150}\n"
     ]
    }
   ],
   "source": [
    "coins = [2000, 500, 100, 50, 10,2, 1]\n",
    "stock={2000:6,500:10,100:20,50:15,10:100,2:150,1:200}\n",
    "\n",
    "def fun():\n",
    "    bill=int(input(\"your bill in rupees\"))\n",
    "    givenamount=0\n",
    "   \n",
    "    while givenamount<bill:\n",
    "        givenamount+=int(input(\"given amount in rupees\"))\n",
    "        if givenamount>=bill:\n",
    "            change=givenamount-bill\n",
    "            coinsReturned = []\n",
    "            for i in coins:\n",
    "                if stock[i]>0:\n",
    "                       while change>=i:\n",
    "                                change=change-i\n",
    "                                coinsReturned.append(i)\n",
    "                                stock[i]-=1 \n",
    "                                \n",
    "            a=stock\n",
    "            print(a)\n",
    "            print(coinsReturned)\n",
    "    for i in coins:\n",
    "        if stock[i]>0:\n",
    "            while givenamount>=i:\n",
    "                givenamount=givenamount-i\n",
    "                stock[i]+=1\n",
    "    \n",
    "        \n",
    "    \n",
    "            \n",
    "            \n",
    "    \n",
    "    stock.update(a)\n",
    "    print(stock)\n",
    "fun()"
   ]
  },
  {
   "cell_type": "code",
   "execution_count": 5,
   "metadata": {},
   "outputs": [
    {
     "name": "stdout",
     "output_type": "stream",
     "text": [
      "your bill in rupees400\n",
      "given amount in rupees500\n",
      "{2000: 6, 1: 200, 50: 16, 100: 22, 500: 10, 10: 100, 2: 150}\n",
      "[100]\n",
      "{2000: 6, 1: 200, 50: 16, 100: 22, 500: 11, 10: 100, 2: 150}\n"
     ]
    }
   ],
   "source": [
    "fun()\n"
   ]
  },
  {
   "cell_type": "code",
   "execution_count": 3,
   "metadata": {},
   "outputs": [
    {
     "name": "stdout",
     "output_type": "stream",
     "text": [
      "your bill in rupees500\n",
      "given amount in rupees700\n",
      "{2000: 7, 1: 200, 50: 15, 100: 18, 500: 11, 10: 100}\n",
      "[100, 100]\n",
      "{2000: 7, 1: 200, 50: 15, 100: 20, 500: 12, 10: 100}\n"
     ]
    }
   ],
   "source": [
    "fun()"
   ]
  },
  {
   "cell_type": "code",
   "execution_count": null,
   "metadata": {},
   "outputs": [],
   "source": []
  }
 ],
 "metadata": {
  "kernelspec": {
   "display_name": "Python 3",
   "language": "python",
   "name": "python3"
  },
  "language_info": {
   "codemirror_mode": {
    "name": "ipython",
    "version": 3
   },
   "file_extension": ".py",
   "mimetype": "text/x-python",
   "name": "python",
   "nbconvert_exporter": "python",
   "pygments_lexer": "ipython3",
   "version": "3.5.2"
  }
 },
 "nbformat": 4,
 "nbformat_minor": 2
}
