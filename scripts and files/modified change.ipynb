{
 "cells": [
  {
   "cell_type": "code",
   "execution_count": null,
   "metadata": {},
   "outputs": [],
   "source": [
    "from collections import Counter\n",
    "coins = [2000, 500, 100, 50, 10, 1]\n",
    "stock={2000:6,500:2,100:20,50:15,10:100,1:200}\n",
    "def fun():\n",
    "    bill=int(input(\"your bill in rupees\"))\n",
    "    givenamount=0   \n",
    "    while givenamount<bill:\n",
    "        givenamount+=int(input(\"given amount in rupees\"))\n",
    "        if givenamount>=bill:\n",
    "            change=givenamount-bill\n",
    "            coinsReturned = []\n",
    "            for i in coins:\n",
    "                if stock[i]>0:\n",
    "                       while change>=i:\n",
    "                                change=change-i\n",
    "                                coinsReturned.append(i)\n",
    "                                stock[i]-=1 \n",
    "                break               \n",
    "        \n",
    "    a=stock\n",
    "    print(a)\n",
    "    print(coinsReturned)    \n",
    "    stock.update(a)\n",
    "    print((stock))\n",
    "    \n",
    "    \n",
    "def update():\n",
    "    d=int(input(\"enter two thousand notes:\"))\n",
    "    f=int(input(\"enter five hundred notes:\"))\n",
    "    l=int(input(\"enter hundred notes:\"))\n",
    "    k=int(input(\"enter fifty rupee notes:\"))\n",
    "    j=int(input(\"enter ten rupee:\"))\n",
    "    p=int(input(\"enter one rupee:\"))\n",
    "    new_collec={2000:d,500:f,100:l,50:k,10:j,1:p}\n",
    "    updated=dict(Counter(stock)+Counter(new_collec))\n",
    "    stock.update(updated)\n",
    "    \n",
    "    \n",
    "\n",
    "fun()"
   ]
  },
  {
   "cell_type": "code",
   "execution_count": 6,
   "metadata": {},
   "outputs": [
    {
     "name": "stdout",
     "output_type": "stream",
     "text": [
      "enter two thousand notes:3\n",
      "enter five hundred notes:3\n",
      "enter hundred notes:3\n",
      "enter fifty rupee notes:3\n",
      "enter ten rupee:3\n",
      "enter one rupee:3\n"
     ]
    }
   ],
   "source": [
    "update()"
   ]
  },
  {
   "cell_type": "code",
   "execution_count": 7,
   "metadata": {},
   "outputs": [
    {
     "name": "stdout",
     "output_type": "stream",
     "text": [
      "your bill in rupees300\n",
      "given amount in rupees500\n",
      "{2000: 9, 1: 203, 50: 18, 100: 20, 500: 13, 10: 103}\n",
      "[100, 100]\n",
      "{2000: 9, 1: 203, 50: 18, 100: 20, 500: 13, 10: 103}\n"
     ]
    }
   ],
   "source": [
    "fun()"
   ]
  },
  {
   "cell_type": "code",
   "execution_count": null,
   "metadata": {},
   "outputs": [],
   "source": []
  }
 ],
 "metadata": {
  "kernelspec": {
   "display_name": "Python 3",
   "language": "python",
   "name": "python3"
  },
  "language_info": {
   "codemirror_mode": {
    "name": "ipython",
    "version": 3
   },
   "file_extension": ".py",
   "mimetype": "text/x-python",
   "name": "python",
   "nbconvert_exporter": "python",
   "pygments_lexer": "ipython3",
   "version": "3.5.2"
  }
 },
 "nbformat": 4,
 "nbformat_minor": 2
}
