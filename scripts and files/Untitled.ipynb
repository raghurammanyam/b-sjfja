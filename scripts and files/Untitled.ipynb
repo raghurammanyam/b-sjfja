{
 "cells": [
  {
   "cell_type": "code",
   "execution_count": 1,
   "metadata": {},
   "outputs": [
    {
     "name": "stdout",
     "output_type": "stream",
     "text": [
      "Enter the cost (in cents): 340\n",
      "Deposit a coin or note (in cents): 53\n",
      "Deposit a coin or note (in cents): 5\n",
      "Deposit a coin or note (in cents): 6\n",
      "Deposit a coin or note (in cents): 6\n",
      "Deposit a coin or note (in cents): 6\n",
      "Deposit a coin or note (in cents): 6\n",
      "Deposit a coin or note (in cents): 6\n",
      "Deposit a coin or note (in cents): 6\n",
      "Deposit a coin or note (in cents): 67\n",
      "Deposit a coin or note (in cents): 7u\n"
     ]
    },
    {
     "ename": "ValueError",
     "evalue": "invalid literal for int() with base 10: '7u'",
     "output_type": "error",
     "traceback": [
      "\u001b[0;31m---------------------------------------------------------------------------\u001b[0m",
      "\u001b[0;31mValueError\u001b[0m                                Traceback (most recent call last)",
      "\u001b[0;32m<ipython-input-1-dd39aed870e6>\u001b[0m in \u001b[0;36m<module>\u001b[0;34m()\u001b[0m\n\u001b[1;32m     21\u001b[0m                      \u001b[0;32mfor\u001b[0m \u001b[0mcount\u001b[0m\u001b[0;34m,\u001b[0m \u001b[0mcoin\u001b[0m \u001b[0;32min\u001b[0m \u001b[0mzip\u001b[0m\u001b[0;34m(\u001b[0m\u001b[0mcounts\u001b[0m\u001b[0;34m,\u001b[0m \u001b[0mcoins\u001b[0m\u001b[0;34m)\u001b[0m\u001b[0;34m\u001b[0m\u001b[0m\n\u001b[1;32m     22\u001b[0m                      if count)\n\u001b[0;32m---> 23\u001b[0;31m \u001b[0mvend\u001b[0m\u001b[0;34m(\u001b[0m\u001b[0;34m)\u001b[0m\u001b[0;34m\u001b[0m\u001b[0m\n\u001b[0m",
      "\u001b[0;32m<ipython-input-1-dd39aed870e6>\u001b[0m in \u001b[0;36mvend\u001b[0;34m()\u001b[0m\n\u001b[1;32m      4\u001b[0m     \u001b[0minserted\u001b[0m \u001b[0;34m=\u001b[0m \u001b[0;36m0\u001b[0m\u001b[0;34m\u001b[0m\u001b[0m\n\u001b[1;32m      5\u001b[0m     \u001b[0;32mwhile\u001b[0m \u001b[0minserted\u001b[0m \u001b[0;34m<\u001b[0m \u001b[0mtotal\u001b[0m\u001b[0;34m:\u001b[0m\u001b[0;34m\u001b[0m\u001b[0m\n\u001b[0;32m----> 6\u001b[0;31m         \u001b[0minserted\u001b[0m \u001b[0;34m+=\u001b[0m \u001b[0mint\u001b[0m\u001b[0;34m(\u001b[0m\u001b[0minput\u001b[0m\u001b[0;34m(\u001b[0m\u001b[0;34m\"Deposit a coin or note (in cents): \"\u001b[0m\u001b[0;34m)\u001b[0m\u001b[0;34m)\u001b[0m\u001b[0;34m\u001b[0m\u001b[0m\n\u001b[0m\u001b[1;32m      7\u001b[0m     \u001b[0;32mif\u001b[0m \u001b[0minserted\u001b[0m \u001b[0;34m>\u001b[0m \u001b[0mtotal\u001b[0m\u001b[0;34m:\u001b[0m\u001b[0;34m\u001b[0m\u001b[0m\n\u001b[1;32m      8\u001b[0m         \u001b[0;32mreturn\u001b[0m \u001b[0mmake_change\u001b[0m\u001b[0;34m(\u001b[0m\u001b[0minserted\u001b[0m \u001b[0;34m-\u001b[0m \u001b[0mtotal\u001b[0m\u001b[0;34m)\u001b[0m\u001b[0;34m\u001b[0m\u001b[0m\n",
      "\u001b[0;31mValueError\u001b[0m: invalid literal for int() with base 10: '7u'"
     ]
    }
   ],
   "source": [
    "def vend():\n",
    "    \"\"\"Simulate a vending machine, taking user input and returning remainder.\"\"\"\n",
    "    total = int(input(\"Enter the cost (in cents): \"))\n",
    "    inserted = 0\n",
    "    while inserted < total:\n",
    "        inserted += int(input(\"Deposit a coin or note (in cents): \"))\n",
    "    if inserted > total:\n",
    "        return make_change(inserted - total)\n",
    "\n",
    "def make_change(remainder):\n",
    "    \"\"\"Calculate the coins required to make change equal to amount.\"\"\"\n",
    "    coins = [\"500\", \"100\", \"50\", \"10\", \"1\"]\n",
    "    amounts = [int(coin[:-1]) if coin.endswith(\"c\") \n",
    "               else 100 * int(coin[1:]) \n",
    "               for coin in coins]\n",
    "    counts = [0 for _ in coins]\n",
    "    for index, amount in enumerate(amounts):\n",
    "        counts[index] = remainder // amount\n",
    "        remainder %= amount\n",
    "    return \", \".join(\"{0} x {1}\".format(count, coin) \n",
    "                     for count, coin in zip(counts, coins) \n",
    "                     if count)\n",
    "vend()"
   ]
  },
  {
   "cell_type": "code",
   "execution_count": 2,
   "metadata": {},
   "outputs": [
    {
     "name": "stdout",
     "output_type": "stream",
     "text": [
      "Enter the cost (in cents): 3500\n",
      "Deposit a coin or note (in cents): 6\n",
      "Deposit a coin or note (in cents): 5\n",
      "Deposit a coin or note (in cents): 0\n",
      "Deposit a coin or note (in cents): 0\n",
      "Deposit a coin or note (in cents): 0\n",
      "Deposit a coin or note (in cents): 0\n",
      "Deposit a coin or note (in cents): 0\n",
      "Deposit a coin or note (in cents): 0\n",
      "Deposit a coin or note (in cents): \n"
     ]
    },
    {
     "ename": "ValueError",
     "evalue": "invalid literal for int() with base 10: ''",
     "output_type": "error",
     "traceback": [
      "\u001b[0;31m---------------------------------------------------------------------------\u001b[0m",
      "\u001b[0;31mValueError\u001b[0m                                Traceback (most recent call last)",
      "\u001b[0;32m<ipython-input-2-dd39aed870e6>\u001b[0m in \u001b[0;36m<module>\u001b[0;34m()\u001b[0m\n\u001b[1;32m     21\u001b[0m                      \u001b[0;32mfor\u001b[0m \u001b[0mcount\u001b[0m\u001b[0;34m,\u001b[0m \u001b[0mcoin\u001b[0m \u001b[0;32min\u001b[0m \u001b[0mzip\u001b[0m\u001b[0;34m(\u001b[0m\u001b[0mcounts\u001b[0m\u001b[0;34m,\u001b[0m \u001b[0mcoins\u001b[0m\u001b[0;34m)\u001b[0m\u001b[0;34m\u001b[0m\u001b[0m\n\u001b[1;32m     22\u001b[0m                      if count)\n\u001b[0;32m---> 23\u001b[0;31m \u001b[0mvend\u001b[0m\u001b[0;34m(\u001b[0m\u001b[0;34m)\u001b[0m\u001b[0;34m\u001b[0m\u001b[0m\n\u001b[0m",
      "\u001b[0;32m<ipython-input-2-dd39aed870e6>\u001b[0m in \u001b[0;36mvend\u001b[0;34m()\u001b[0m\n\u001b[1;32m      4\u001b[0m     \u001b[0minserted\u001b[0m \u001b[0;34m=\u001b[0m \u001b[0;36m0\u001b[0m\u001b[0;34m\u001b[0m\u001b[0m\n\u001b[1;32m      5\u001b[0m     \u001b[0;32mwhile\u001b[0m \u001b[0minserted\u001b[0m \u001b[0;34m<\u001b[0m \u001b[0mtotal\u001b[0m\u001b[0;34m:\u001b[0m\u001b[0;34m\u001b[0m\u001b[0m\n\u001b[0;32m----> 6\u001b[0;31m         \u001b[0minserted\u001b[0m \u001b[0;34m+=\u001b[0m \u001b[0mint\u001b[0m\u001b[0;34m(\u001b[0m\u001b[0minput\u001b[0m\u001b[0;34m(\u001b[0m\u001b[0;34m\"Deposit a coin or note (in cents): \"\u001b[0m\u001b[0;34m)\u001b[0m\u001b[0;34m)\u001b[0m\u001b[0;34m\u001b[0m\u001b[0m\n\u001b[0m\u001b[1;32m      7\u001b[0m     \u001b[0;32mif\u001b[0m \u001b[0minserted\u001b[0m \u001b[0;34m>\u001b[0m \u001b[0mtotal\u001b[0m\u001b[0;34m:\u001b[0m\u001b[0;34m\u001b[0m\u001b[0m\n\u001b[1;32m      8\u001b[0m         \u001b[0;32mreturn\u001b[0m \u001b[0mmake_change\u001b[0m\u001b[0;34m(\u001b[0m\u001b[0minserted\u001b[0m \u001b[0;34m-\u001b[0m \u001b[0mtotal\u001b[0m\u001b[0;34m)\u001b[0m\u001b[0;34m\u001b[0m\u001b[0m\n",
      "\u001b[0;31mValueError\u001b[0m: invalid literal for int() with base 10: ''"
     ]
    }
   ],
   "source": [
    "def vend():\n",
    "    \"\"\"Simulate a vending machine, taking user input and returning remainder.\"\"\"\n",
    "    total = int(input(\"Enter the cost (in cents): \"))\n",
    "    inserted = 0\n",
    "    while inserted < total:\n",
    "        inserted += int(input(\"Deposit a coin or note (in cents): \"))\n",
    "    if inserted > total:\n",
    "        return make_change(inserted - total)\n",
    "\n",
    "def make_change(remainder):\n",
    "    \"\"\"Calculate the coins required to make change equal to amount.\"\"\"\n",
    "    coins = [\"500\", \"100\", \"50\", \"10\", \"1\"]\n",
    "    amounts = [int(coin[:-1]) if coin.endswith(\"c\") \n",
    "               else 100 * int(coin[1:]) \n",
    "               for coin in coins]\n",
    "    counts = [0 for _ in coins]\n",
    "    for index, amount in enumerate(amounts):\n",
    "        counts[index] = remainder // amount\n",
    "        remainder %= amount\n",
    "    return \", \".join(\"{0} x {1}\".format(count, coin) \n",
    "                     for count, coin in zip(counts, coins) \n",
    "                     if count)\n",
    "vend()"
   ]
  },
  {
   "cell_type": "code",
   "execution_count": 3,
   "metadata": {},
   "outputs": [
    {
     "name": "stdout",
     "output_type": "stream",
     "text": [
      "Enter the cost (in cents): 5000\n",
      "Deposit a coin or note (in cents): 10\n",
      "Deposit a coin or note (in cents): 0\n",
      "Deposit a coin or note (in cents): 0\n",
      "Deposit a coin or note (in cents): 0\n",
      "Deposit a coin or note (in cents): 0\n",
      "Deposit a coin or note (in cents): 0\n",
      "Deposit a coin or note (in cents): 0\n",
      "Deposit a coin or note (in cents): 0\n",
      "Deposit a coin or note (in cents): 0\n",
      "Deposit a coin or note (in cents): 0\n",
      "Deposit a coin or note (in cents): 0\n",
      "Deposit a coin or note (in cents): 0\n",
      "Deposit a coin or note (in cents): 0\n",
      "Deposit a coin or note (in cents): 0\n",
      "Deposit a coin or note (in cents): 0\n",
      "Deposit a coin or note (in cents): 0\n",
      "Deposit a coin or note (in cents): 0\n",
      "Deposit a coin or note (in cents): 0\n",
      "Deposit a coin or note (in cents): 0\n",
      "Deposit a coin or note (in cents): 0\n",
      "Deposit a coin or note (in cents): 0\n",
      "Deposit a coin or note (in cents): 0\n",
      "Deposit a coin or note (in cents): 0\n",
      "Deposit a coin or note (in cents): 0\n",
      "Deposit a coin or note (in cents): 0\n",
      "Deposit a coin or note (in cents): 0\n",
      "Deposit a coin or note (in cents): 0\n",
      "Deposit a coin or note (in cents): 0\n",
      "Deposit a coin or note (in cents): 0\n",
      "Deposit a coin or note (in cents): 0\n",
      "Deposit a coin or note (in cents): 0\n",
      "Deposit a coin or note (in cents): 0\n",
      "Deposit a coin or note (in cents): 0\n",
      "Deposit a coin or note (in cents): 0\n",
      "Deposit a coin or note (in cents): 0\n",
      "Deposit a coin or note (in cents): 0\n",
      "Deposit a coin or note (in cents): 0\n",
      "Deposit a coin or note (in cents): 0\n",
      "Deposit a coin or note (in cents): 0\n",
      "Deposit a coin or note (in cents): 0\n",
      "Deposit a coin or note (in cents): 0\n",
      "Deposit a coin or note (in cents): 0\n",
      "Deposit a coin or note (in cents): 0\n",
      "Deposit a coin or note (in cents): 0\n",
      "Deposit a coin or note (in cents): 0\n",
      "Deposit a coin or note (in cents): \n"
     ]
    },
    {
     "ename": "ValueError",
     "evalue": "invalid literal for int() with base 10: ''",
     "output_type": "error",
     "traceback": [
      "\u001b[0;31m---------------------------------------------------------------------------\u001b[0m",
      "\u001b[0;31mValueError\u001b[0m                                Traceback (most recent call last)",
      "\u001b[0;32m<ipython-input-3-dd39aed870e6>\u001b[0m in \u001b[0;36m<module>\u001b[0;34m()\u001b[0m\n\u001b[1;32m     21\u001b[0m                      \u001b[0;32mfor\u001b[0m \u001b[0mcount\u001b[0m\u001b[0;34m,\u001b[0m \u001b[0mcoin\u001b[0m \u001b[0;32min\u001b[0m \u001b[0mzip\u001b[0m\u001b[0;34m(\u001b[0m\u001b[0mcounts\u001b[0m\u001b[0;34m,\u001b[0m \u001b[0mcoins\u001b[0m\u001b[0;34m)\u001b[0m\u001b[0;34m\u001b[0m\u001b[0m\n\u001b[1;32m     22\u001b[0m                      if count)\n\u001b[0;32m---> 23\u001b[0;31m \u001b[0mvend\u001b[0m\u001b[0;34m(\u001b[0m\u001b[0;34m)\u001b[0m\u001b[0;34m\u001b[0m\u001b[0m\n\u001b[0m",
      "\u001b[0;32m<ipython-input-3-dd39aed870e6>\u001b[0m in \u001b[0;36mvend\u001b[0;34m()\u001b[0m\n\u001b[1;32m      4\u001b[0m     \u001b[0minserted\u001b[0m \u001b[0;34m=\u001b[0m \u001b[0;36m0\u001b[0m\u001b[0;34m\u001b[0m\u001b[0m\n\u001b[1;32m      5\u001b[0m     \u001b[0;32mwhile\u001b[0m \u001b[0minserted\u001b[0m \u001b[0;34m<\u001b[0m \u001b[0mtotal\u001b[0m\u001b[0;34m:\u001b[0m\u001b[0;34m\u001b[0m\u001b[0m\n\u001b[0;32m----> 6\u001b[0;31m         \u001b[0minserted\u001b[0m \u001b[0;34m+=\u001b[0m \u001b[0mint\u001b[0m\u001b[0;34m(\u001b[0m\u001b[0minput\u001b[0m\u001b[0;34m(\u001b[0m\u001b[0;34m\"Deposit a coin or note (in cents): \"\u001b[0m\u001b[0;34m)\u001b[0m\u001b[0;34m)\u001b[0m\u001b[0;34m\u001b[0m\u001b[0m\n\u001b[0m\u001b[1;32m      7\u001b[0m     \u001b[0;32mif\u001b[0m \u001b[0minserted\u001b[0m \u001b[0;34m>\u001b[0m \u001b[0mtotal\u001b[0m\u001b[0;34m:\u001b[0m\u001b[0;34m\u001b[0m\u001b[0m\n\u001b[1;32m      8\u001b[0m         \u001b[0;32mreturn\u001b[0m \u001b[0mmake_change\u001b[0m\u001b[0;34m(\u001b[0m\u001b[0minserted\u001b[0m \u001b[0;34m-\u001b[0m \u001b[0mtotal\u001b[0m\u001b[0;34m)\u001b[0m\u001b[0;34m\u001b[0m\u001b[0m\n",
      "\u001b[0;31mValueError\u001b[0m: invalid literal for int() with base 10: ''"
     ]
    }
   ],
   "source": [
    "def vend():\n",
    "    \"\"\"Simulate a vending machine, taking user input and returning remainder.\"\"\"\n",
    "    total = int(input(\"Enter the cost (in cents): \"))\n",
    "    inserted = 0\n",
    "    while inserted < total:\n",
    "        inserted += int(input(\"Deposit a coin or note (in cents): \"))\n",
    "    if inserted > total:\n",
    "        return make_change(inserted - total)\n",
    "\n",
    "def make_change(remainder):\n",
    "    \"\"\"Calculate the coins required to make change equal to amount.\"\"\"\n",
    "    coins = [\"500\", \"100\", \"50\", \"10\", \"1\"]\n",
    "    amounts = [int(coin[:-1]) if coin.endswith(\"c\") \n",
    "               else 100 * int(coin[1:]) \n",
    "               for coin in coins]\n",
    "    counts = [0 for _ in coins]\n",
    "    for index, amount in enumerate(amounts):\n",
    "        counts[index] = remainder // amount\n",
    "        remainder %= amount\n",
    "    return \", \".join(\"{0} x {1}\".format(count, coin) \n",
    "                     for count, coin in zip(counts, coins) \n",
    "                     if count)\n",
    "vend()"
   ]
  },
  {
   "cell_type": "code",
   "execution_count": 10,
   "metadata": {},
   "outputs": [
    {
     "name": "stdout",
     "output_type": "stream",
     "text": [
      "Enter the cost (in cents): 3500\n",
      "Deposit a coin or note (in cents): 4000\n"
     ]
    },
    {
     "ename": "ValueError",
     "evalue": "invalid literal for int() with base 10: '$0'",
     "output_type": "error",
     "traceback": [
      "\u001b[0;31m---------------------------------------------------------------------------\u001b[0m",
      "\u001b[0;31mValueError\u001b[0m                                Traceback (most recent call last)",
      "\u001b[0;32m<ipython-input-10-b1cc45cb9fed>\u001b[0m in \u001b[0;36m<module>\u001b[0;34m()\u001b[0m\n\u001b[1;32m     21\u001b[0m                      \u001b[0;32mfor\u001b[0m \u001b[0mcount\u001b[0m\u001b[0;34m,\u001b[0m \u001b[0mcoin\u001b[0m \u001b[0;32min\u001b[0m \u001b[0mzip\u001b[0m\u001b[0;34m(\u001b[0m\u001b[0mcounts\u001b[0m\u001b[0;34m,\u001b[0m \u001b[0mcoins\u001b[0m\u001b[0;34m)\u001b[0m\u001b[0;34m\u001b[0m\u001b[0m\n\u001b[1;32m     22\u001b[0m                      if count)\n\u001b[0;32m---> 23\u001b[0;31m \u001b[0mvend\u001b[0m\u001b[0;34m(\u001b[0m\u001b[0;34m)\u001b[0m\u001b[0;34m\u001b[0m\u001b[0m\n\u001b[0m",
      "\u001b[0;32m<ipython-input-10-b1cc45cb9fed>\u001b[0m in \u001b[0;36mvend\u001b[0;34m()\u001b[0m\n\u001b[1;32m      6\u001b[0m         \u001b[0minserted\u001b[0m \u001b[0;34m+=\u001b[0m \u001b[0mint\u001b[0m\u001b[0;34m(\u001b[0m\u001b[0minput\u001b[0m\u001b[0;34m(\u001b[0m\u001b[0;34m\"Deposit a coin or note (in cents): \"\u001b[0m\u001b[0;34m)\u001b[0m\u001b[0;34m)\u001b[0m\u001b[0;34m\u001b[0m\u001b[0m\n\u001b[1;32m      7\u001b[0m     \u001b[0;32mif\u001b[0m \u001b[0minserted\u001b[0m \u001b[0;34m>\u001b[0m \u001b[0mtotal\u001b[0m\u001b[0;34m:\u001b[0m\u001b[0;34m\u001b[0m\u001b[0m\n\u001b[0;32m----> 8\u001b[0;31m         \u001b[0;32mreturn\u001b[0m \u001b[0mmake_change\u001b[0m\u001b[0;34m(\u001b[0m\u001b[0minserted\u001b[0m \u001b[0;34m-\u001b[0m \u001b[0mtotal\u001b[0m\u001b[0;34m)\u001b[0m\u001b[0;34m\u001b[0m\u001b[0m\n\u001b[0m\u001b[1;32m      9\u001b[0m \u001b[0;34m\u001b[0m\u001b[0m\n\u001b[1;32m     10\u001b[0m \u001b[0;32mdef\u001b[0m \u001b[0mmake_change\u001b[0m\u001b[0;34m(\u001b[0m\u001b[0mremainder\u001b[0m\u001b[0;34m)\u001b[0m\u001b[0;34m:\u001b[0m\u001b[0;34m\u001b[0m\u001b[0m\n",
      "\u001b[0;32m<ipython-input-10-b1cc45cb9fed>\u001b[0m in \u001b[0;36mmake_change\u001b[0;34m(remainder)\u001b[0m\n\u001b[1;32m     13\u001b[0m     amounts = [int(coin[:-1]) if coin.endswith(\"c\") \n\u001b[1;32m     14\u001b[0m                \u001b[0;32melse\u001b[0m \u001b[0;36m100\u001b[0m \u001b[0;34m*\u001b[0m \u001b[0mint\u001b[0m\u001b[0;34m(\u001b[0m\u001b[0mcoin\u001b[0m\u001b[0;34m[\u001b[0m\u001b[0;36m1\u001b[0m\u001b[0;34m:\u001b[0m\u001b[0;34m]\u001b[0m\u001b[0;34m)\u001b[0m\u001b[0;34m\u001b[0m\u001b[0m\n\u001b[0;32m---> 15\u001b[0;31m                for coin in coins]\n\u001b[0m\u001b[1;32m     16\u001b[0m     \u001b[0mcounts\u001b[0m \u001b[0;34m=\u001b[0m \u001b[0;34m[\u001b[0m\u001b[0;36m0\u001b[0m \u001b[0;32mfor\u001b[0m \u001b[0m_\u001b[0m \u001b[0;32min\u001b[0m \u001b[0mcoins\u001b[0m\u001b[0;34m]\u001b[0m\u001b[0;34m\u001b[0m\u001b[0m\n\u001b[1;32m     17\u001b[0m     \u001b[0;32mfor\u001b[0m \u001b[0mindex\u001b[0m\u001b[0;34m,\u001b[0m \u001b[0mamount\u001b[0m \u001b[0;32min\u001b[0m \u001b[0menumerate\u001b[0m\u001b[0;34m(\u001b[0m\u001b[0mamounts\u001b[0m\u001b[0;34m)\u001b[0m\u001b[0;34m:\u001b[0m\u001b[0;34m\u001b[0m\u001b[0m\n",
      "\u001b[0;32m<ipython-input-10-b1cc45cb9fed>\u001b[0m in \u001b[0;36m<listcomp>\u001b[0;34m(.0)\u001b[0m\n\u001b[1;32m     13\u001b[0m     amounts = [int(coin[:-1]) if coin.endswith(\"c\") \n\u001b[1;32m     14\u001b[0m                \u001b[0;32melse\u001b[0m \u001b[0;36m100\u001b[0m \u001b[0;34m*\u001b[0m \u001b[0mint\u001b[0m\u001b[0;34m(\u001b[0m\u001b[0mcoin\u001b[0m\u001b[0;34m[\u001b[0m\u001b[0;36m1\u001b[0m\u001b[0;34m:\u001b[0m\u001b[0;34m]\u001b[0m\u001b[0;34m)\u001b[0m\u001b[0;34m\u001b[0m\u001b[0m\n\u001b[0;32m---> 15\u001b[0;31m                for coin in coins]\n\u001b[0m\u001b[1;32m     16\u001b[0m     \u001b[0mcounts\u001b[0m \u001b[0;34m=\u001b[0m \u001b[0;34m[\u001b[0m\u001b[0;36m0\u001b[0m \u001b[0;32mfor\u001b[0m \u001b[0m_\u001b[0m \u001b[0;32min\u001b[0m \u001b[0mcoins\u001b[0m\u001b[0;34m]\u001b[0m\u001b[0;34m\u001b[0m\u001b[0m\n\u001b[1;32m     17\u001b[0m     \u001b[0;32mfor\u001b[0m \u001b[0mindex\u001b[0m\u001b[0;34m,\u001b[0m \u001b[0mamount\u001b[0m \u001b[0;32min\u001b[0m \u001b[0menumerate\u001b[0m\u001b[0;34m(\u001b[0m\u001b[0mamounts\u001b[0m\u001b[0;34m)\u001b[0m\u001b[0;34m:\u001b[0m\u001b[0;34m\u001b[0m\u001b[0m\n",
      "\u001b[0;31mValueError\u001b[0m: invalid literal for int() with base 10: '$0'"
     ]
    }
   ],
   "source": [
    "def vend():\n",
    "    \"\"\"Simulate a vending machine, taking user input and returning remainder.\"\"\"\n",
    "    total = int(input(\"Enter the cost (in cents): \"))\n",
    "    inserted = 0\n",
    "    while inserted < total:\n",
    "        inserted += int(input(\"Deposit a coin or note (in cents): \"))\n",
    "    if inserted > total:\n",
    "        return make_change(inserted - total)\n",
    "\n",
    "def make_change(remainder):\n",
    "    \"\"\"Calculate the coins required to make change equal to amount.\"\"\"\n",
    "    coins = [\"$500\", \"$100\", \"5$0\", \"$10\",\"5c\" \"1c\"]\n",
    "    amounts = [int(coin[:-1]) if coin.endswith(\"c\") \n",
    "               else 100 * int(coin[1:]) \n",
    "               for coin in coins]\n",
    "    counts = [0 for _ in coins]\n",
    "    for index, amount in enumerate(amounts):\n",
    "        counts[index] = remainder // amount\n",
    "        remainder %= amount\n",
    "    return \", \".join(\"{0} x {1}\".format(count, coin) \n",
    "                     for count, coin in zip(counts, coins) \n",
    "                     if count)\n",
    "vend()"
   ]
  },
  {
   "cell_type": "code",
   "execution_count": 13,
   "metadata": {},
   "outputs": [
    {
     "name": "stdout",
     "output_type": "stream",
     "text": [
      "Enter the cost (in cents): 7899\n",
      "Deposit a coin or note (in cents): 8000\n"
     ]
    },
    {
     "ename": "ZeroDivisionError",
     "evalue": "integer division or modulo by zero",
     "output_type": "error",
     "traceback": [
      "\u001b[0;31m---------------------------------------------------------------------------\u001b[0m",
      "\u001b[0;31mZeroDivisionError\u001b[0m                         Traceback (most recent call last)",
      "\u001b[0;32m<ipython-input-13-1e501704e5c6>\u001b[0m in \u001b[0;36m<module>\u001b[0;34m()\u001b[0m\n\u001b[1;32m     21\u001b[0m                      \u001b[0;32mfor\u001b[0m \u001b[0mcount\u001b[0m\u001b[0;34m,\u001b[0m \u001b[0mcoin\u001b[0m \u001b[0;32min\u001b[0m \u001b[0mzip\u001b[0m\u001b[0;34m(\u001b[0m\u001b[0mcounts\u001b[0m\u001b[0;34m,\u001b[0m \u001b[0mcoins\u001b[0m\u001b[0;34m)\u001b[0m\u001b[0;34m\u001b[0m\u001b[0m\n\u001b[1;32m     22\u001b[0m                      if count)\n\u001b[0;32m---> 23\u001b[0;31m \u001b[0mvend\u001b[0m\u001b[0;34m(\u001b[0m\u001b[0;34m)\u001b[0m\u001b[0;34m\u001b[0m\u001b[0m\n\u001b[0m",
      "\u001b[0;32m<ipython-input-13-1e501704e5c6>\u001b[0m in \u001b[0;36mvend\u001b[0;34m()\u001b[0m\n\u001b[1;32m      6\u001b[0m         \u001b[0minserted\u001b[0m \u001b[0;34m+=\u001b[0m \u001b[0mint\u001b[0m\u001b[0;34m(\u001b[0m\u001b[0minput\u001b[0m\u001b[0;34m(\u001b[0m\u001b[0;34m\"Deposit a coin or note (in cents): \"\u001b[0m\u001b[0;34m)\u001b[0m\u001b[0;34m)\u001b[0m\u001b[0;34m\u001b[0m\u001b[0m\n\u001b[1;32m      7\u001b[0m     \u001b[0;32mif\u001b[0m \u001b[0minserted\u001b[0m \u001b[0;34m>\u001b[0m \u001b[0mtotal\u001b[0m\u001b[0;34m:\u001b[0m\u001b[0;34m\u001b[0m\u001b[0m\n\u001b[0;32m----> 8\u001b[0;31m         \u001b[0;32mreturn\u001b[0m \u001b[0mmake_change\u001b[0m\u001b[0;34m(\u001b[0m\u001b[0minserted\u001b[0m \u001b[0;34m-\u001b[0m \u001b[0mtotal\u001b[0m\u001b[0;34m)\u001b[0m\u001b[0;34m\u001b[0m\u001b[0m\n\u001b[0m\u001b[1;32m      9\u001b[0m \u001b[0;34m\u001b[0m\u001b[0m\n\u001b[1;32m     10\u001b[0m \u001b[0;32mdef\u001b[0m \u001b[0mmake_change\u001b[0m\u001b[0;34m(\u001b[0m\u001b[0mremainder\u001b[0m\u001b[0;34m)\u001b[0m\u001b[0;34m:\u001b[0m\u001b[0;34m\u001b[0m\u001b[0m\n",
      "\u001b[0;32m<ipython-input-13-1e501704e5c6>\u001b[0m in \u001b[0;36mmake_change\u001b[0;34m(remainder)\u001b[0m\n\u001b[1;32m     16\u001b[0m     \u001b[0mcounts\u001b[0m \u001b[0;34m=\u001b[0m \u001b[0;34m[\u001b[0m\u001b[0;36m0\u001b[0m \u001b[0;32mfor\u001b[0m \u001b[0m_\u001b[0m \u001b[0;32min\u001b[0m \u001b[0mcoins\u001b[0m\u001b[0;34m]\u001b[0m\u001b[0;34m\u001b[0m\u001b[0m\n\u001b[1;32m     17\u001b[0m     \u001b[0;32mfor\u001b[0m \u001b[0mindex\u001b[0m\u001b[0;34m,\u001b[0m \u001b[0mamount\u001b[0m \u001b[0;32min\u001b[0m \u001b[0menumerate\u001b[0m\u001b[0;34m(\u001b[0m\u001b[0mamounts\u001b[0m\u001b[0;34m)\u001b[0m\u001b[0;34m:\u001b[0m\u001b[0;34m\u001b[0m\u001b[0m\n\u001b[0;32m---> 18\u001b[0;31m         \u001b[0mcounts\u001b[0m\u001b[0;34m[\u001b[0m\u001b[0mindex\u001b[0m\u001b[0;34m]\u001b[0m \u001b[0;34m=\u001b[0m \u001b[0mremainder\u001b[0m \u001b[0;34m//\u001b[0m \u001b[0mamount\u001b[0m\u001b[0;34m\u001b[0m\u001b[0m\n\u001b[0m\u001b[1;32m     19\u001b[0m         \u001b[0mremainder\u001b[0m \u001b[0;34m%=\u001b[0m \u001b[0mamount\u001b[0m\u001b[0;34m\u001b[0m\u001b[0m\n\u001b[1;32m     20\u001b[0m     return \", \".join(\"{0} x {1}\".format(count, coin) \n",
      "\u001b[0;31mZeroDivisionError\u001b[0m: integer division or modulo by zero"
     ]
    }
   ],
   "source": [
    "def vend():\n",
    "    \"\"\"Simulate a vending machine, taking user input and returning remainder.\"\"\"\n",
    "    total = int(input(\"Enter the cost (in cents): \"))\n",
    "    inserted = 0\n",
    "    while inserted < total:\n",
    "        inserted += int(input(\"Deposit a coin or note (in cents): \"))\n",
    "    if inserted > total:\n",
    "        return make_change(inserted - total)\n",
    "\n",
    "def make_change(remainder):\n",
    "    \"\"\"Calculate the coins required to make change equal to amount.\"\"\"\n",
    "    coins = [\"500\", \"100\", \"50\", \"10\", \"1c\"]\n",
    "    amounts = [int(coin[:-1]) if coin.endswith(\"c\") \n",
    "               else 1 * int(coin[1:]) \n",
    "               for coin in coins]\n",
    "    counts = [0 for _ in coins]\n",
    "    for index, amount in enumerate(amounts):\n",
    "        counts[index] = remainder // amount\n",
    "        remainder %= amount\n",
    "    return \", \".join(\"{0} x {1}\".format(count, coin) \n",
    "                     for count, coin in zip(counts, coins) \n",
    "                     if count)\n",
    "vend()"
   ]
  },
  {
   "cell_type": "code",
   "execution_count": 15,
   "metadata": {},
   "outputs": [
    {
     "name": "stdout",
     "output_type": "stream",
     "text": [
      "Enter the cost (in cents):\n",
      "3500\n",
      "Deposit a coin or note (in rupees):\n",
      "4000\n",
      "Your change is:\n",
      "5 x $1\n"
     ]
    },
    {
     "ename": "NameError",
     "evalue": "name 'five_Rupees' is not defined",
     "output_type": "error",
     "traceback": [
      "\u001b[0;31m---------------------------------------------------------------------------\u001b[0m",
      "\u001b[0;31mNameError\u001b[0m                                 Traceback (most recent call last)",
      "\u001b[0;32m<ipython-input-15-1eca36aadc0f>\u001b[0m in \u001b[0;36m<module>\u001b[0;34m()\u001b[0m\n\u001b[1;32m     25\u001b[0m             \u001b[0mprint\u001b[0m\u001b[0;34m(\u001b[0m\u001b[0mone_rupees\u001b[0m\u001b[0;34m,\u001b[0m\u001b[0;34m'x 1c'\u001b[0m\u001b[0;34m)\u001b[0m\u001b[0;34m\u001b[0m\u001b[0m\n\u001b[1;32m     26\u001b[0m \u001b[0;34m\u001b[0m\u001b[0m\n\u001b[0;32m---> 27\u001b[0;31m \u001b[0mvend\u001b[0m\u001b[0;34m(\u001b[0m\u001b[0;34m)\u001b[0m\u001b[0;34m\u001b[0m\u001b[0m\n\u001b[0m",
      "\u001b[0;32m<ipython-input-15-1eca36aadc0f>\u001b[0m in \u001b[0;36mvend\u001b[0;34m()\u001b[0m\n\u001b[1;32m     19\u001b[0m             \u001b[0mprint\u001b[0m\u001b[0;34m(\u001b[0m\u001b[0mten_rupees\u001b[0m\u001b[0;34m,\u001b[0m\u001b[0;34m'x 10c'\u001b[0m\u001b[0;34m)\u001b[0m\u001b[0;34m\u001b[0m\u001b[0m\n\u001b[1;32m     20\u001b[0m         \u001b[0mfive_rupees\u001b[0m \u001b[0;34m=\u001b[0m \u001b[0;34m(\u001b[0m\u001b[0msum\u001b[0m \u001b[0;34m-\u001b[0m \u001b[0mRupees\u001b[0m\u001b[0;34m*\u001b[0m\u001b[0;36m100\u001b[0m \u001b[0;34m-\u001b[0m \u001b[0mquarters\u001b[0m\u001b[0;34m*\u001b[0m\u001b[0;36m25\u001b[0m \u001b[0;34m-\u001b[0m \u001b[0mten_rupees\u001b[0m\u001b[0;34m*\u001b[0m\u001b[0;36m10\u001b[0m\u001b[0;34m)\u001b[0m\u001b[0;34m//\u001b[0m\u001b[0;36m5\u001b[0m\u001b[0;34m\u001b[0m\u001b[0m\n\u001b[0;32m---> 21\u001b[0;31m         \u001b[0;32mif\u001b[0m \u001b[0mfive_Rupees\u001b[0m \u001b[0;34m!=\u001b[0m \u001b[0;36m0\u001b[0m\u001b[0;34m:\u001b[0m\u001b[0;34m\u001b[0m\u001b[0m\n\u001b[0m\u001b[1;32m     22\u001b[0m             \u001b[0mprint\u001b[0m\u001b[0;34m(\u001b[0m\u001b[0mfive_rupees\u001b[0m\u001b[0;34m,\u001b[0m\u001b[0;34m'x 5c'\u001b[0m\u001b[0;34m)\u001b[0m\u001b[0;34m\u001b[0m\u001b[0m\n\u001b[1;32m     23\u001b[0m         \u001b[0mone_rupees\u001b[0m \u001b[0;34m=\u001b[0m \u001b[0;34m(\u001b[0m\u001b[0msum\u001b[0m \u001b[0;34m-\u001b[0m \u001b[0mRupees\u001b[0m\u001b[0;34m*\u001b[0m\u001b[0;36m100\u001b[0m \u001b[0;34m-\u001b[0m \u001b[0mquarters\u001b[0m\u001b[0;34m*\u001b[0m\u001b[0;36m25\u001b[0m \u001b[0;34m-\u001b[0m \u001b[0mten_rupees\u001b[0m\u001b[0;34m*\u001b[0m\u001b[0;36m10\u001b[0m \u001b[0;34m-\u001b[0m \u001b[0mfive_rupees\u001b[0m\u001b[0;34m*\u001b[0m\u001b[0;36m5\u001b[0m\u001b[0;34m)\u001b[0m\u001b[0;34m//\u001b[0m\u001b[0;36m1\u001b[0m\u001b[0;34m\u001b[0m\u001b[0m\n",
      "\u001b[0;31mNameError\u001b[0m: name 'five_Rupees' is not defined"
     ]
    }
   ],
   "source": [
    "def vend():\n",
    "    \"\"\"Simulate a vending machine, taking user input and returning remainder.\"\"\"\n",
    "    total = eval(input(\"Enter the cost (in cents):\\n\"))\n",
    "    bill = 0\n",
    "    while bill < total:\n",
    "        bill += eval(input(\"Deposit a coin or note (in rupees):\\n\"))\n",
    "    if bill > total:\n",
    "        sum = bill - total\n",
    "        if sum != 0:\n",
    "            print(\"Your change is:\")\n",
    "        Rupees = sum//100\n",
    "        if Rupees != 0:\n",
    "            print(Rupees,'x $1')\n",
    "        quarters = (sum - Rupees*100)//25\n",
    "        if quarters != 0:\n",
    "            print(quarters,'x 25c')\n",
    "        ten_rupees = (sum - Rupees*100 - quarters*25)//10\n",
    "        if ten_rupees != 0:\n",
    "            print(ten_rupees,'x 10c')\n",
    "        five_rupees = (sum - Rupees*100 - quarters*25 - ten_rupees*10)//5\n",
    "        if five_Rupees != 0:\n",
    "            print(five_rupees,'x 5c')\n",
    "        one_rupees = (sum - Rupees*100 - quarters*25 - ten_rupees*10 - five_rupees*5)//1\n",
    "        if one_rupees != 0:\n",
    "            print(one_rupees,'x 1c')\n",
    "\n",
    "vend()"
   ]
  },
  {
   "cell_type": "code",
   "execution_count": null,
   "metadata": {},
   "outputs": [],
   "source": [
    "def bill():\n",
    "    total = eval(input(\"Enter the cost (in cents):\\n\"))\n",
    "    inserted = 0\n",
    "    while inserted < total:\n",
    "        inserted += eval(input(\"Deposit a coin or note (in cents):\\n\"))\n",
    "    if inserted > total:\n",
    "        sum = inserted - total\n",
    "        if sum != 0:\n",
    "            print(\"Your change is:\")\n",
    "        dollars = sum//100\n",
    "        if dollars != 0:\n",
    "            print(dollars,'x $1')\n",
    "        quarters = (sum - dollars*100)//25\n",
    "        if quarters != 0:\n",
    "            print(quarters,'x 25c')\n",
    "        ten_cents = (sum - dollars*100 - quarters*25)//10\n",
    "        if ten_cents != 0:\n",
    "            print(ten_cents,'x 10c')\n",
    "        five_cents = (sum - dollars*100 - quarters*25 - ten_cents*10)//5\n",
    "        if five_cents != 0:\n",
    "            print(five_cents,'x 5c')\n",
    "        one_cents = (sum - dollars*100 - quarters*25 - ten_cents*10 - five_cents*5)//1\n",
    "        if one_cents != 0:\n",
    "            print(one_cents,'x 1c')\n",
    "\n",
    "bill()"
   ]
  },
  {
   "cell_type": "code",
   "execution_count": null,
   "metadata": {},
   "outputs": [],
   "source": [
    "amount=int(input(\"Please enter the change to be given\"))\n",
    "endAmount=amount\n",
    "\n",
    "coins=[50,25,10,5,2,1]\n",
    "listOfCoins=[\"fifty\" ,\"twenty five\", \"ten\", \"five\", \"two\" , \"one\"]\n",
    "change = []\n",
    "\n",
    "\n",
    "for coin in coins:\n",
    "    holdingAmount=amount\n",
    "    amount=amount//coin\n",
    "    change.append(amount)\n",
    "    amount=holdingAmount%coin\n",
    "\n",
    "print(\"The minimum coinage to return from \" ,endAmount, \"p is as follows\")\n",
    "for i in range(len(coins)):\n",
    "    print(\"There's \" , change[i] ,\"....\",  listOfCoins[i] , \"pence pieces in your change\" )\n",
    "    \n",
    "  "
   ]
  },
  {
   "cell_type": "code",
   "execution_count": null,
   "metadata": {},
   "outputs": [],
   "source": [
    "amount=int(input(\"Please enter amount in pence\"))\n",
    "coins = [50, 25, 10, 5, 2, 1]\n",
    "coinsReturned = []\n",
    "for i in coins:\n",
    "  while amount >=i:\n",
    "        coinsReturned.append(i)\n",
    "        amount = amount - i\n",
    "print(coinsReturned)"
   ]
  },
  {
   "cell_type": "code",
   "execution_count": 7,
   "metadata": {},
   "outputs": [
    {
     "ename": "AttributeError",
     "evalue": "'int' object has no attribute 'count'",
     "output_type": "error",
     "traceback": [
      "\u001b[0;31m---------------------------------------------------------------------------\u001b[0m",
      "\u001b[0;31mAttributeError\u001b[0m                            Traceback (most recent call last)",
      "\u001b[0;32m<ipython-input-7-1738f86d5f49>\u001b[0m in \u001b[0;36m<module>\u001b[0;34m()\u001b[0m\n\u001b[1;32m     37\u001b[0m \u001b[0;34m\u001b[0m\u001b[0m\n\u001b[1;32m     38\u001b[0m \u001b[0;32mif\u001b[0m \u001b[0m__name__\u001b[0m \u001b[0;34m==\u001b[0m \u001b[0;34m'__main__'\u001b[0m\u001b[0;34m:\u001b[0m\u001b[0;34m\u001b[0m\u001b[0m\n\u001b[0;32m---> 39\u001b[0;31m     \u001b[0mcompute_bill\u001b[0m\u001b[0;34m(\u001b[0m\u001b[0;36m4\u001b[0m\u001b[0;34m)\u001b[0m\u001b[0;34m\u001b[0m\u001b[0m\n\u001b[0m",
      "\u001b[0;32m<ipython-input-7-1738f86d5f49>\u001b[0m in \u001b[0;36mcompute_bill\u001b[0;34m(food)\u001b[0m\n\u001b[1;32m     17\u001b[0m \u001b[0;31m# Write your code below!\u001b[0m\u001b[0;34m\u001b[0m\u001b[0;34m\u001b[0m\u001b[0m\n\u001b[1;32m     18\u001b[0m \u001b[0;32mdef\u001b[0m \u001b[0mcompute_bill\u001b[0m\u001b[0;34m(\u001b[0m\u001b[0mfood\u001b[0m\u001b[0;34m)\u001b[0m\u001b[0;34m:\u001b[0m\u001b[0;34m\u001b[0m\u001b[0m\n\u001b[0;32m---> 19\u001b[0;31m     \u001b[0mbanana_number\u001b[0m \u001b[0;34m=\u001b[0m \u001b[0mfood\u001b[0m\u001b[0;34m.\u001b[0m\u001b[0mcount\u001b[0m\u001b[0;34m(\u001b[0m\u001b[0;34m\"banana\"\u001b[0m\u001b[0;34m)\u001b[0m\u001b[0;34m\u001b[0m\u001b[0m\n\u001b[0m\u001b[1;32m     20\u001b[0m     \u001b[0mapple_number\u001b[0m \u001b[0;34m=\u001b[0m \u001b[0mfood\u001b[0m\u001b[0;34m.\u001b[0m\u001b[0mcount\u001b[0m\u001b[0;34m(\u001b[0m\u001b[0;34m\"apple\"\u001b[0m\u001b[0;34m)\u001b[0m\u001b[0;34m\u001b[0m\u001b[0m\n\u001b[1;32m     21\u001b[0m     \u001b[0morange_number\u001b[0m \u001b[0;34m=\u001b[0m \u001b[0mfood\u001b[0m\u001b[0;34m.\u001b[0m\u001b[0mcount\u001b[0m\u001b[0;34m(\u001b[0m\u001b[0;34m\"orange\"\u001b[0m\u001b[0;34m)\u001b[0m\u001b[0;34m\u001b[0m\u001b[0m\n",
      "\u001b[0;31mAttributeError\u001b[0m: 'int' object has no attribute 'count'"
     ]
    }
   ],
   "source": [
    "zozo = [\"apple\",\"pear\",\"banana\"]\n",
    "\n",
    "stock = {\n",
    "    \"banana\": 6,\n",
    "    \"apple\": 0,\n",
    "    \"orange\": 32,\n",
    "    \"pear\": 15\n",
    "}\n",
    "\n",
    "prices = {\n",
    "    \"banana\": 4,\n",
    "    \"apple\": 2,\n",
    "    \"orange\": 1.5,\n",
    "    \"pear\": 3\n",
    "}\n",
    "\n",
    "# Write your code below!\n",
    "def compute_bill():\n",
    "    banana_number = food.count(\"banana\")\n",
    "    apple_number = food.count(\"apple\")\n",
    "    orange_number = food.count(\"orange\")\n",
    "    pear_number = food.count(\"pear\")\n",
    "    total = 0\n",
    "    hash_table = {\"apple\":apple_number,\"banana\":banana_number,\n",
    "                  \"orange\":orange_number,\"pear\":pear_number}\n",
    "    for key in hash_table:\n",
    "        if hash_table[key]>stock[key]:\n",
    "            hash_table[key] = stock[key]\n",
    "        else:\n",
    "            hash_table[key] = hash_table[key]\n",
    "\n",
    "        total += prices[key]*hash_table[key]\n",
    "        stock[key] -= hash_table[key]\n",
    "\n",
    "    return total\n",
    "    return stock\n",
    "\n",
    "if __name__ == '__main__':\n",
    "    compute_bill()"
   ]
  },
  {
   "cell_type": "code",
   "execution_count": 1,
   "metadata": {},
   "outputs": [
    {
     "data": {
      "text/plain": [
       "5.5"
      ]
     },
     "execution_count": 1,
     "metadata": {},
     "output_type": "execute_result"
    }
   ],
   "source": [
    "food = [\"banana\", \"orange\", \"apple\"]\n",
    "\n",
    "stock = {\n",
    "    \"banana\": 6,\n",
    "    \"apple\": 0,\n",
    "    \"orange\": 32,\n",
    "    \"pear\": 15\n",
    "}\n",
    "\n",
    "prices = {\n",
    "    \"banana\": 4,\n",
    "    \"apple\": 2,\n",
    "    \"orange\": 1.5,\n",
    "    \"pear\": 3\n",
    "}\n",
    "def compute_bill(food):\n",
    "    total = 0\n",
    "\n",
    "    for item in food:\n",
    "        if stock[item] > 0:\n",
    "            total += prices[item]\n",
    "            stock[item]-=1\n",
    "    return total\n",
    "\n",
    "compute_bill(food)"
   ]
  },
  {
   "cell_type": "code",
   "execution_count": 10,
   "metadata": {},
   "outputs": [
    {
     "data": {
      "text/plain": [
       "-1"
      ]
     },
     "execution_count": 10,
     "metadata": {},
     "output_type": "execute_result"
    }
   ],
   "source": [
    "\n",
    "food = [\"banana\", \"orange\", \"apple\"]\n",
    "\n",
    "stock = {\n",
    "    \"banana\": 6,\n",
    "    \"apple\": 0,\n",
    "    \"orange\": 32,\n",
    "    \"pear\": 15\n",
    "}\n",
    "    \n",
    "prices = {\n",
    "    \"banana\": 4,\n",
    "    \"apple\": 2,\n",
    "    \"orange\": 1.5,\n",
    "    \"pear\": 3\n",
    "}\n",
    "\n",
    "# Write your code below!\n",
    "def computeBill(food):\n",
    "    total = 0\n",
    "    for item in food:\n",
    "        stock_count = stock[item]\n",
    "        if stock_count == 0:\n",
    "            return -1\n",
    "        tot = prices[item] * stock_count\n",
    "        print (item, tot)\n",
    "        total += tot\n",
    "    print (total)\n",
    "computeBill(['apple'])"
   ]
  },
  {
   "cell_type": "code",
   "execution_count": 3,
   "metadata": {},
   "outputs": [
    {
     "name": "stdout",
     "output_type": "stream",
     "text": [
      "y\n",
      "u\n"
     ]
    }
   ],
   "source": [
    "def compare(dictOne,dictTwo):\n",
    "    for keyOne in dictOne:\n",
    "        for keyTwo in dictTwo:\n",
    "            if keyOne == keyTwo:\n",
    "                print(a=dictTwo[keyOne])\n",
    "                \n",
    "\n",
    "dict1 = {1 : 'a', 2 : 'b', 3 : 'c', 4 : 'd'}\n",
    "dict2= {5 : 'z', 1 : 'y', 6 : 'x', 3 : 'u'}\n",
    "compare(dict1,dict2)"
   ]
  },
  {
   "cell_type": "code",
   "execution_count": null,
   "metadata": {},
   "outputs": [],
   "source": [
    "coins = [2000, 500, 100, 50, 10, 1]\n",
    "stock={2000:6,500:10,100:20,50:15,10:100,1:200}\n",
    "\n",
    "def fun():\n",
    "    bill=int(input(\"your bill in rupees\"))\n",
    "    givenamount=0\n",
    "   \n",
    "    while givenamount<bill:\n",
    "        givenamount+=int(input(\"given amount in rupees\"))\n",
    "        if givenamount>=bill:\n",
    "            change=givenamount-bill\n",
    "            coinsReturned = []\n",
    "            for i in coins:\n",
    "                if stock[i]>0:\n",
    "                       while change>=i:\n",
    "                                change=change-i\n",
    "                                coinsReturned.append(i)\n",
    "                                stock[i]-=1 \n",
    "                                \n",
    "            a=stock\n",
    "            print(a)\n",
    "            print(coinsReturned)\n",
    "    for s in stock:\n",
    "        if s in a:\n",
    "            stock[s]=a[s]\n",
    "    \n",
    "    \n",
    "    print(stock)\n",
    "    \n",
    "fun()"
   ]
  },
  {
   "cell_type": "code",
   "execution_count": 8,
   "metadata": {},
   "outputs": [
    {
     "name": "stdout",
     "output_type": "stream",
     "text": [
      "your bill in rupees330\n",
      "given amount in rupees400\n",
      "{2000: 6, 1: 200, 50: 13, 100: 20, 500: 10, 10: 98}\n",
      "[50, 10, 10]\n",
      "{2000: 6, 1: 200, 50: 13, 100: 20, 500: 10, 10: 98}\n"
     ]
    }
   ],
   "source": [
    "fun()"
   ]
  },
  {
   "cell_type": "code",
   "execution_count": null,
   "metadata": {},
   "outputs": [
    {
     "name": "stdout",
     "output_type": "stream",
     "text": [
      "enter barcode:123\n",
      "item found\n",
      "banana\n",
      "price: 4\n",
      "stock: 6\n",
      "Barcode: 123\n",
      "[4]\n",
      "['banana']\n",
      "..............................................\n",
      "scan another item?y/nn\n",
      "Total cost: 4\n",
      "..............................................\n",
      "scan another item?y/ny\n",
      "enter barcode:1231\n",
      "[4]\n",
      "item found\n",
      "apple\n",
      "price: 2\n",
      "stock: 0\n",
      "Barcode: 1231\n",
      "[4, 2]\n",
      "[4, 2]\n",
      "[4, 2]\n",
      "scan another item?y/nn\n",
      "Total cost: 8\n",
      "..............................................\n",
      "Total cost: 10\n",
      "..............................................\n"
     ]
    }
   ],
   "source": [
    "items = {'banana': {'price': 4,   'stock': 6, 'code':123 },\n",
    "         'apple':  {'price': 2,   'stock': 0,'code':1231 },\n",
    "         'orange': {'price': 1.5, 'stock': 32,'code':1233},\n",
    "         'pear':   {'price': 3,   'stock': 15,'code':12335},\n",
    "        }\n",
    "\n",
    "bar=int(input(\"enter barcode:\"))\n",
    "sum = 0\n",
    "price =[]\n",
    "products =[]\n",
    "for key in items:\n",
    "    if items[key]['code'] == int(bar):\n",
    "        print(\"item found\")\n",
    "        print (key)\n",
    "        print (\"price: %s\" % items[key]['price'])\n",
    "        print (\"stock: %s\" % items[key]['stock'])\n",
    "        print (\"Barcode: %s\" % items[key]['code'])\n",
    "        price.append(items[key]['price'])\n",
    "        products.append(key)\n",
    "\n",
    "        print(price)\n",
    "        print(products)\n",
    "        print(\"..............................................\")\n",
    "        while True:\n",
    "\n",
    "            choice = input(\"scan another item?y/n\")\n",
    "            if choice =='n':\n",
    "                for cost in price:\n",
    "                    sum += cost\n",
    "                    print(\"Total cost:\",sum)\n",
    "                    print(\"..............................................\")\n",
    "\n",
    "        \n",
    "            if choice =='y':\n",
    "\n",
    "\n",
    "                bar=int(input(\"enter barcode:\"))\n",
    "\n",
    "\n",
    "                for key in items:\n",
    "\n",
    "                    if items[key]['code'] == int(bar):\n",
    "                        print(\"item found\")\n",
    "                        print (key)\n",
    "                        print (\"price: %s\" % items[key]['price'])\n",
    "                        print (\"stock: %s\" % items[key]['stock'])\n",
    "                        print (\"Barcode: %s\" % items[key]['code'])\n",
    "                        price.append(items[key]['price'])\n",
    "                        products.append(key)\n",
    "                    print(price)"
   ]
  },
  {
   "cell_type": "code",
   "execution_count": 5,
   "metadata": {},
   "outputs": [
    {
     "name": "stdout",
     "output_type": "stream",
     "text": [
      "dict_items([(1, 3), (2, 4)])\n",
      "11\n"
     ]
    }
   ],
   "source": [
    "d={1:3,2:4}\n",
    "print(d.items())\n",
    "total=[]\n",
    "for i,j in d.items():\n",
    "    a=i*j\n",
    "    total.append(a)\n",
    "    \n",
    "print(sum(total))    \n"
   ]
  },
  {
   "cell_type": "code",
   "execution_count": null,
   "metadata": {},
   "outputs": [],
   "source": []
  }
 ],
 "metadata": {
  "kernelspec": {
   "display_name": "Python 3",
   "language": "python",
   "name": "python3"
  },
  "language_info": {
   "codemirror_mode": {
    "name": "ipython",
    "version": 3
   },
   "file_extension": ".py",
   "mimetype": "text/x-python",
   "name": "python",
   "nbconvert_exporter": "python",
   "pygments_lexer": "ipython3",
   "version": "3.5.2"
  }
 },
 "nbformat": 4,
 "nbformat_minor": 2
}
