{
 "cells": [
  {
   "cell_type": "code",
   "execution_count": 28,
   "metadata": {},
   "outputs": [
    {
     "name": "stdout",
     "output_type": "stream",
     "text": [
      "your bill in rupees500\n",
      "given amount in rupees500\n",
      "{2000: 6, 1: 200, 50: 15, 100: 20, 500: 2, 10: 100}\n",
      "[]\n",
      "{2000: 6, 1: 200, 50: 15, 100: 20, 500: 2, 10: 100}\n"
     ]
    }
   ],
   "source": [
    "from collections import Counter\n",
    "coins = [2000, 500, 100, 50, 10, 1]\n",
    "stock={2000:6,500:2,100:20,50:15,10:100,1:200}\n",
    "menu = {\"burger\":75,\"pizza\":199,\"cooldrinks\":20,\"sandwich\":69}\n",
    "def fun():\n",
    "    item=input\n",
    "    bill=int(input(\"your bill in rupees\"))\n",
    "    givenamount=0   \n",
    "    while givenamount<bill:\n",
    "        givenamount+=int(input(\"given amount in rupees\"))\n",
    "        if givenamount>=bill:\n",
    "            change=givenamount-bill\n",
    "            coinsReturned = []\n",
    "            for i in coins:\n",
    "                if stock[i]>0:\n",
    "                       while (change>=i and stock[i]>0):\n",
    "                                change=change-i\n",
    "                                coinsReturned.append(i)\n",
    "                                stock[i]-=1 \n",
    "                               \n",
    "        \n",
    "    a=stock\n",
    "    print(a)\n",
    "    print(coinsReturned)    \n",
    "    stock.update(a)\n",
    "    print((stock))\n",
    "    \n",
    "    \n",
    "def update():\n",
    "    total=[]\n",
    "    full_amount=[]\n",
    "    d=int(input(\"enter two thousand notes:\"))\n",
    "    f=int(input(\"enter five hundred notes:\"))\n",
    "    l=int(input(\"enter hundred notes:\"))\n",
    "    k=int(input(\"enter fifty rupee notes:\"))\n",
    "    j=int(input(\"enter ten rupee:\"))\n",
    "    p=int(input(\"enter one rupee:\"))    \n",
    "    new_collec={2000:d,500:f,100:l,50:k,10:j,1:p}\n",
    "    for i,j in new_collec.items():\n",
    "        mul=i*j\n",
    "        total.append(mul)    \n",
    "    print(\"Total deposit amount:\",sum(total)) \n",
    "    updated=dict(Counter(stock)+Counter(new_collec))\n",
    "    stock.update(updated)\n",
    "    for u,l in stock.items():\n",
    "        apx=u*l\n",
    "        full_amount.append(apx)\n",
    "    print(\"Total updated amount:\",sum(full_amount))\n",
    "    \n",
    "    \n",
    "    \n",
    "    \n",
    "fun()"
   ]
  },
  {
   "cell_type": "code",
   "execution_count": 27,
   "metadata": {},
   "outputs": [
    {
     "name": "stdout",
     "output_type": "stream",
     "text": [
      "enter two thousand notes:2\n",
      "enter five hundred notes:2\n",
      "enter hundred notes:2\n",
      "enter fifty rupee notes:2\n",
      "enter ten rupee:2\n",
      "enter one rupee:2\n",
      "Total deposit amount: 5322\n",
      "Total updated amount: 22072\n"
     ]
    }
   ],
   "source": [
    "update()\n"
   ]
  },
  {
   "cell_type": "markdown",
   "metadata": {},
   "source": [
    "fun()"
   ]
  },
  {
   "cell_type": "code",
   "execution_count": 25,
   "metadata": {},
   "outputs": [
    {
     "name": "stdout",
     "output_type": "stream",
     "text": [
      "your bill in rupees340\n",
      "given amount in rupees540\n",
      "{2000: 105, 1: 1105, 50: 49, 100: 16, 500: 23, 10: 155}\n",
      "[100, 100]\n",
      "{2000: 105, 1: 1105, 50: 49, 100: 16, 500: 23, 10: 155}\n"
     ]
    }
   ],
   "source": [
    "fun()"
   ]
  },
  {
   "cell_type": "code",
   "execution_count": 19,
   "metadata": {},
   "outputs": [
    {
     "name": "stdout",
     "output_type": "stream",
     "text": [
      "enter two thousand notes:1\n",
      "enter five hundred notes:1\n",
      "enter hundred notes:1\n",
      "enter fifty rupee notes:1\n",
      "enter ten rupee:1\n",
      "enter one rupee:1\n"
     ]
    }
   ],
   "source": [
    "update()"
   ]
  },
  {
   "cell_type": "code",
   "execution_count": 20,
   "metadata": {},
   "outputs": [
    {
     "name": "stdout",
     "output_type": "stream",
     "text": [
      "your bill in rupees445\n",
      "given amount in rupees2000\n",
      "{2000: 9, 1: 197, 50: 17, 100: 23, 500: 3, 10: 101}\n",
      "[500, 500, 500, 50, 1, 1, 1, 1, 1]\n",
      "{2000: 9, 1: 197, 50: 17, 100: 23, 500: 3, 10: 101}\n"
     ]
    }
   ],
   "source": [
    "fun()"
   ]
  },
  {
   "cell_type": "code",
   "execution_count": null,
   "metadata": {},
   "outputs": [],
   "source": []
  }
 ],
 "metadata": {
  "kernelspec": {
   "display_name": "Python 3",
   "language": "python",
   "name": "python3"
  },
  "language_info": {
   "codemirror_mode": {
    "name": "ipython",
    "version": 3
   },
   "file_extension": ".py",
   "mimetype": "text/x-python",
   "name": "python",
   "nbconvert_exporter": "python",
   "pygments_lexer": "ipython3",
   "version": "3.5.2"
  }
 },
 "nbformat": 4,
 "nbformat_minor": 2
}
