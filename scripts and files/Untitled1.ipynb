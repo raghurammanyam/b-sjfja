{
 "cells": [
  {
   "cell_type": "code",
   "execution_count": null,
   "metadata": {},
   "outputs": [],
   "source": [
    "amount=int(input(\"Please enter amount in rupees\"))\n",
    "givenamount=int(input(\"enter amount in rupees\"))\n",
    "\n",
    "coins = [2000, 500, 100, 50, 50, 10]\n",
    "coinsReturned = []\n",
    "for i in coins:\n",
    "  while amount >=i:\n",
    "        coinsReturned.append(i)\n",
    "        amount = amount - i\n",
    "print(coinsReturned)"
   ]
  },
  {
   "cell_type": "code",
   "execution_count": null,
   "metadata": {},
   "outputs": [],
   "source": [
    "coins = [2000, 500, 100, 50, 10, 1]\n",
    "stock={2000:6,500:10,100:20,50:15,10:100,1:200}\n",
    "def fun():\n",
    "    bill=int(input(\"your bill in rupees\"))\n",
    "    givenamount=0\n",
    "   \n",
    "    while givenamount<bill:\n",
    "        givenamount+=int(input(\"given amount in rupees\"))\n",
    "        if givenamount>=bill:\n",
    "            change=givenamount-bill\n",
    "            coinsReturned = []\n",
    "            for i in coins:\n",
    "                if stock[i]>0:\n",
    "                       while change>=i:\n",
    "                                change=change-i\n",
    "                                coinsReturned.append(i)\n",
    "                                stock[i]-=1 \n",
    "                                \n",
    "            a=stock\n",
    "            print(a)\n",
    "            print(coinsReturned)\n",
    "            for i in coins:\n",
    "                print(i)\n",
    "                if stock[i]>0:\n",
    "                    while givenamount>=i:\n",
    "                        givenamount=givenamount-i\n",
    "                        stock[i]+=1\n",
    "            b=stock\n",
    "        \n",
    "    for s in stock:\n",
    "        if s in b:\n",
    "            stock[s]=b[s]      \n",
    "    print(stock)    \n",
    "fun()"
   ]
  },
  {
   "cell_type": "code",
   "execution_count": null,
   "metadata": {},
   "outputs": [],
   "source": [
    "fun()"
   ]
  },
  {
   "cell_type": "code",
   "execution_count": null,
   "metadata": {},
   "outputs": [],
   "source": [
    "fun()"
   ]
  },
  {
   "cell_type": "code",
   "execution_count": null,
   "metadata": {},
   "outputs": [],
   "source": [
    "groceries = [\"2000\",\"500\", \"100\",\"50\",\"10\",\"1\"]\n",
    "\n",
    "stock = {\"2000\": 6,\n",
    "    \"500\": 8,\n",
    "    \"100\": 32,\n",
    "    \"50\": 15,\n",
    "     \"10\":100    \n",
    "    }\n",
    "\n",
    "def computeBill(food):\n",
    "    total = 0\n",
    "    for item in food:\n",
    "        stock_count = stock[item]\n",
    "        if stock_count == 0:\n",
    "            return -1\n",
    "        tot = prices[item] * stock_count\n",
    "        print item, tot\n",
    "        total += tot\n",
    "    return total"
   ]
  }
 ],
 "metadata": {
  "kernelspec": {
   "display_name": "Python 3",
   "language": "python",
   "name": "python3"
  },
  "language_info": {
   "codemirror_mode": {
    "name": "ipython",
    "version": 3
   },
   "file_extension": ".py",
   "mimetype": "text/x-python",
   "name": "python",
   "nbconvert_exporter": "python",
   "pygments_lexer": "ipython3",
   "version": "3.5.2"
  }
 },
 "nbformat": 4,
 "nbformat_minor": 2
}
