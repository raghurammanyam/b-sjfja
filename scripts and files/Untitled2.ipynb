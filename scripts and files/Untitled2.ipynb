{
 "cells": [
  {
   "cell_type": "code",
   "execution_count": 14,
   "metadata": {},
   "outputs": [
    {
     "ename": "NameError",
     "evalue": "name 'user' is not defined",
     "output_type": "error",
     "traceback": [
      "\u001b[0;31m---------------------------------------------------------------------------\u001b[0m",
      "\u001b[0;31mNameError\u001b[0m                                 Traceback (most recent call last)",
      "\u001b[0;32m<ipython-input-14-3ffabaaa0b2f>\u001b[0m in \u001b[0;36m<module>\u001b[0;34m()\u001b[0m\n\u001b[1;32m     32\u001b[0m \u001b[0mTEXT\u001b[0m \u001b[0;34m=\u001b[0m \u001b[0;34m'succesfully registered as a user in our app'\u001b[0m\u001b[0;34m\u001b[0m\u001b[0m\n\u001b[1;32m     33\u001b[0m \u001b[0;34m\u001b[0m\u001b[0m\n\u001b[0;32m---> 34\u001b[0;31m \u001b[0msend_email\u001b[0m\u001b[0;34m(\u001b[0m\u001b[0;34m)\u001b[0m\u001b[0;34m\u001b[0m\u001b[0m\n\u001b[0m",
      "\u001b[0;32m<ipython-input-14-3ffabaaa0b2f>\u001b[0m in \u001b[0;36msend_email\u001b[0;34m()\u001b[0m\n\u001b[1;32m      2\u001b[0m \u001b[0;32mdef\u001b[0m \u001b[0msend_email\u001b[0m\u001b[0;34m(\u001b[0m\u001b[0;34m)\u001b[0m\u001b[0;34m:\u001b[0m\u001b[0;34m\u001b[0m\u001b[0m\n\u001b[1;32m      3\u001b[0m \u001b[0;34m\u001b[0m\u001b[0m\n\u001b[0;32m----> 4\u001b[0;31m     \u001b[0mgmail_user\u001b[0m \u001b[0;34m=\u001b[0m \u001b[0muser\u001b[0m\u001b[0;34m\u001b[0m\u001b[0m\n\u001b[0m\u001b[1;32m      5\u001b[0m     \u001b[0mgmail_pwd\u001b[0m \u001b[0;34m=\u001b[0m \u001b[0mpwd\u001b[0m\u001b[0;34m\u001b[0m\u001b[0m\n\u001b[1;32m      6\u001b[0m     \u001b[0mFROM\u001b[0m \u001b[0;34m=\u001b[0m \u001b[0muser\u001b[0m\u001b[0;34m\u001b[0m\u001b[0m\n",
      "\u001b[0;31mNameError\u001b[0m: name 'user' is not defined"
     ]
    }
   ],
   "source": [
    "import smtplib\n",
    "def send_email(user, pwd, recipient, subject, body):\n",
    "    \n",
    "    gmail_user = user\n",
    "    gmail_pwd = pwd\n",
    "    FROM = user\n",
    "    TO = recipient if type(recipient) is list else [recipient]\n",
    "    SUBJECT = subject\n",
    "    TEXT = body\n",
    "    # Prepare actual message\n",
    "    message = \"\"\"From: %s\\nTo: %s\\nSubject: %s\\n\\n%s\n",
    "    \"\"\" % (FROM, \", \".join(TO), SUBJECT, TEXT)\n",
    "    try:\n",
    "        server = smtplib.SMTP(\"smtp.gmail.com\", 587)\n",
    "        server.ehlo()\n",
    "        server.starttls()\n",
    "        server.login(gmail_user, gmail_pwd)\n",
    "        server.sendmail(FROM, TO, message)\n",
    "        server.close()\n",
    "        print('successfully sent the mail')\n",
    "    except Exception as ex:\n",
    "        print(ex)\n",
    "        print(\"failed to send mail\")\n",
    "FROM = 'manyamraghuram@gmail.com'\n",
    "#TO = ['ganeshsingamaneni5@@gmail.com', ]\n",
    "gmail_user = 'manyamraghuram@gmail.com'\n",
    "gmail_pwd = 'bargav@teja'\n",
    "to = ['ganesh1995.55@gmail.com',\n",
    "'manyamraghuram@gmail.com',\n",
    "'kirany879@gmail.com']\n",
    "SUBJECT = 'Class room email test'\n",
    "TEXT = 'succesfully registered as a uesr in our app'\n",
    "\n",
    "send_email(gmail_user, gmail_pwd, to, SUBJECT, TEXT)\n"
   ]
  },
  {
   "cell_type": "code",
   "execution_count": 23,
   "metadata": {},
   "outputs": [
    {
     "name": "stdout",
     "output_type": "stream",
     "text": [
      "successfully sent the mail\n"
     ]
    }
   ],
   "source": [
    "import smtplib\n",
    "def send():\n",
    "    gmail_user = 'ganesh1995.55@gmail.com'\n",
    "    gmail_pwd = 'saradha5'\n",
    "    FROM = gmail_user\n",
    "    recipient= ['ganesh1995.55@gmail.com',\n",
    "          'manyamraghuram@gmail.com',\n",
    "          'kirany879@gmail.com']\n",
    "    TO = recipient if type(recipient) is list else [recipient]\n",
    "    SUBJECT = 'email test'\n",
    "    TEXT = 'succesfully registered as a uesr in our app'\n",
    "    message = \"\"\"From: %s\\nTo: %s\\nSubject: %s\\n\\n%s\n",
    "    \"\"\" % (FROM, \", \".join(TO), SUBJECT, TEXT)\n",
    "    try:\n",
    "        server = smtplib.SMTP(\"smtp.gmail.com\", 587)\n",
    "        server.ehlo()\n",
    "        server.starttls()\n",
    "        server.login(gmail_user, gmail_pwd)\n",
    "        server.sendmail(FROM, TO, message)\n",
    "        server.close()\n",
    "        print('successfully sent the mail')\n",
    "    except Exception as ex:\n",
    "        print(ex)\n",
    "        print(\"failed to send mail\")\n",
    "send()        \n",
    "    "
   ]
  },
  {
   "cell_type": "code",
   "execution_count": null,
   "metadata": {},
   "outputs": [],
   "source": []
  }
 ],
 "metadata": {
  "kernelspec": {
   "display_name": "Python 3",
   "language": "python",
   "name": "python3"
  },
  "language_info": {
   "codemirror_mode": {
    "name": "ipython",
    "version": 3
   },
   "file_extension": ".py",
   "mimetype": "text/x-python",
   "name": "python",
   "nbconvert_exporter": "python",
   "pygments_lexer": "ipython3",
   "version": "3.5.2"
  }
 },
 "nbformat": 4,
 "nbformat_minor": 2
}
