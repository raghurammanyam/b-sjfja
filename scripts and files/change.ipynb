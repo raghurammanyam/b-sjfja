{
 "cells": [
  {
   "cell_type": "code",
   "execution_count": 1,
   "metadata": {},
   "outputs": [
    {
     "name": "stdout",
     "output_type": "stream",
     "text": [
      "Please enter amount in rupees5000\n",
      "enter amount in rupees6000\n",
      "[500, 500]\n"
     ]
    }
   ],
   "source": [
    "bill=int(input(\"Please enter amount in rupees\"))\n",
    "givenamount=int(input(\"enter amount in rupees\"))\n",
    "change=givenamount-bill\n",
    "coins = [2000, 500, 100, 50, 10, 1]\n",
    "coinsReturned = []\n",
    "for i in coins:\n",
    "  while change >=i:\n",
    "        coinsReturned.append(i)\n",
    "        change = change - i\n",
    "print(coinsReturned)"
   ]
  },
  {
   "cell_type": "code",
   "execution_count": 4,
   "metadata": {},
   "outputs": [
    {
     "name": "stdout",
     "output_type": "stream",
     "text": [
      "your bill in rupees780\n",
      "given amount in rupees800\n",
      "[10, 10]\n",
      "bill satisfied\n"
     ]
    }
   ],
   "source": [
    "bill=int(input(\"your bill in rupees\"))\n",
    "givenamount=0\n",
    "while givenamount<bill:\n",
    "    givenamount+=int(input(\"given amount in rupees\"))\n",
    "    if givenamount>bill:\n",
    "        change=givenamount-bill\n",
    "        coins = [2000, 500, 100, 50, 10, 1]\n",
    "        coinsReturned = []\n",
    "        for i in coins:\n",
    "            \n",
    "              while change >=i:\n",
    "                    coinsReturned.append(i)\n",
    "                    change = change - i\n",
    "        print(coinsReturned)\n",
    "else:\n",
    "    print(\"bill satisfied\")"
   ]
  },
  {
   "cell_type": "code",
   "execution_count": 1,
   "metadata": {},
   "outputs": [
    {
     "name": "stdout",
     "output_type": "stream",
     "text": [
      "your bill in rupees890\n",
      "given amount in rupees900\n",
      "{2000: 6, 1: 200, 50: 15, 100: 20, 500: 10, 10: 99}\n",
      "[10]\n",
      "{2000: 6, 1: 200, 50: 15, 100: 20, 500: 10, 10: 99}\n"
     ]
    }
   ],
   "source": [
    "coins = [2000, 500, 100, 50, 10, 1]\n",
    "stock={2000:6,500:10,100:20,50:15,10:100,1:200}\n",
    "def fun():\n",
    "    bill=int(input(\"your bill in rupees\"))\n",
    "    givenamount=0\n",
    "   \n",
    "    while givenamount<bill:\n",
    "        givenamount+=int(input(\"given amount in rupees\"))\n",
    "        if givenamount>bill:\n",
    "            change=givenamount-bill\n",
    "            coinsReturned = []\n",
    "            for i in coins:\n",
    "                if stock[i]>0:\n",
    "                       while change>=i:\n",
    "                                change=change-i\n",
    "                                coinsReturned.append(i)\n",
    "                                stock[i]-=1 \n",
    "                                \n",
    "            a=stock\n",
    "            print(a)\n",
    "            print(coinsReturned)              \n",
    "    stock.update(a)\n",
    "    print(stock)\n",
    "    \n",
    "fun()"
   ]
  },
  {
   "cell_type": "code",
   "execution_count": 2,
   "metadata": {},
   "outputs": [
    {
     "name": "stdout",
     "output_type": "stream",
     "text": [
      "your bill in rupees900\n",
      "given amount in rupees1000\n",
      "{2000: 6, 1: 200, 50: 15, 100: 19, 500: 10, 10: 99}\n",
      "[100]\n",
      "{2000: 6, 1: 200, 50: 15, 100: 19, 500: 10, 10: 99}\n"
     ]
    }
   ],
   "source": [
    "fun()\n"
   ]
  },
  {
   "cell_type": "code",
   "execution_count": 4,
   "metadata": {},
   "outputs": [
    {
     "name": "stdout",
     "output_type": "stream",
     "text": [
      "your bill in rupees50\n",
      "given amount in rupees100\n",
      "{2000: 6, 1: 200, 50: 12, 100: 20, 500: 10, 10: 98}\n",
      "[50]\n",
      "{2000: 6, 1: 200, 50: 12, 100: 20, 500: 10, 10: 98}\n"
     ]
    }
   ],
   "source": [
    "fun()"
   ]
  },
  {
   "cell_type": "code",
   "execution_count": 5,
   "metadata": {},
   "outputs": [
    {
     "name": "stdout",
     "output_type": "stream",
     "text": [
      "your bill in rupees573\n",
      "given amount in rupees900\n",
      "{2000: 6, 1: 193, 50: 12, 100: 17, 500: 10, 10: 96}\n",
      "[100, 100, 100, 10, 10, 1, 1, 1, 1, 1, 1, 1]\n",
      "{2000: 6, 1: 193, 50: 12, 100: 17, 500: 10, 10: 96}\n"
     ]
    }
   ],
   "source": [
    "fun()"
   ]
  },
  {
   "cell_type": "code",
   "execution_count": null,
   "metadata": {},
   "outputs": [],
   "source": []
  }
 ],
 "metadata": {
  "kernelspec": {
   "display_name": "Python 3",
   "language": "python",
   "name": "python3"
  },
  "language_info": {
   "codemirror_mode": {
    "name": "ipython",
    "version": 3
   },
   "file_extension": ".py",
   "mimetype": "text/x-python",
   "name": "python",
   "nbconvert_exporter": "python",
   "pygments_lexer": "ipython3",
   "version": "3.5.2"
  }
 },
 "nbformat": 4,
 "nbformat_minor": 2
}
